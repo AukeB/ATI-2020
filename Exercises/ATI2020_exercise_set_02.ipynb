{
 "cells": [
  {
   "cell_type": "markdown",
   "metadata": {},
   "source": [
    "# Astronomical Telescopes and Instruments 2020:\n",
    "# Exercises on Geometrical Optics\n",
    "# Due on 29 September 2020 at 14:15\n",
    "# Auke Bruinsma, s1594443"
   ]
  },
  {
   "cell_type": "markdown",
   "metadata": {},
   "source": [
    "## Analytical Exercises"
   ]
  },
  {
   "cell_type": "markdown",
   "metadata": {},
   "source": [
    "### 1.1 Minimum Distance between Object and Image\n",
    "Show that the minimum separation between conjugate points in the object and the image space is $4f$ for a thin,\n",
    "positive lens with focal length $f$."
   ]
  },
  {
   "cell_type": "markdown",
   "metadata": {},
   "source": [
    "**Answer**:\n",
    "\n",
    "Let the distance from the object to the image be $d$.\n",
    "\n",
    "Let the image distance be $x$.\n",
    "\n",
    "Then, object distance equals $d-x$\n",
    "\n",
    "Now, apply lens formula:\n",
    "\n",
    "$$ \\frac{1}{S_1} + \\frac{1}{S_2} = \\frac{1}{f} $$\n",
    "\n",
    "$$ \\frac{1}{x} + \\frac{1}{d-x} = \\frac{1}{f} $$\n",
    "\n",
    "$$ \\frac{1}{x} + \\frac{1}{d-x} - \\frac{1}{f} = 0 $$\n",
    "\n",
    "$$ fx - fd - fx + x^2 - xd = 0 $$\n",
    "\n",
    "$$ x^2 - xd - fd = 0 $$\n",
    "\n",
    "$$ x = \\frac{d \\pm \\sqrt{d^2 - 4fd}}{2} $$\n",
    "\n",
    "$$ d^2 \\geq 4fd $$\n",
    "\n",
    "$$ d \\geq 4f $$"
   ]
  },
  {
   "cell_type": "markdown",
   "metadata": {},
   "source": [
    "### 1.1 Petzval Condition\n",
    "Petzval field curvature of a lens system can be avoided by obeying the Petzval condition $\\sum_i \\frac{1}{n_i f_i} = 0$ where $n_i$ and $f_i$ are the indices of refraction and the focal lengths of the individual lenses. An obvious approach for a positive two-lens system where both lenses are made from the same material to fulfill the Petzval condition is to choose a positive followed by a negative lens with the same absolute value of the focal length but opposite signs. Show that this combination can still act as a positive lens.\n",
    "\n",
    "*Hint*: Use the equation for the combination of thin lenses."
   ]
  },
  {
   "cell_type": "markdown",
   "metadata": {},
   "source": [
    "**Answer**:"
   ]
  },
  {
   "cell_type": "markdown",
   "metadata": {},
   "source": []
  },
  {
   "cell_type": "markdown",
   "metadata": {},
   "source": []
  },
  {
   "cell_type": "markdown",
   "metadata": {},
   "source": []
  },
  {
   "cell_type": "markdown",
   "metadata": {},
   "source": []
  },
  {
   "cell_type": "markdown",
   "metadata": {},
   "source": []
  },
  {
   "cell_type": "markdown",
   "metadata": {},
   "source": []
  },
  {
   "cell_type": "markdown",
   "metadata": {},
   "source": []
  },
  {
   "cell_type": "markdown",
   "metadata": {},
   "source": []
  },
  {
   "cell_type": "markdown",
   "metadata": {},
   "source": []
  },
  {
   "cell_type": "markdown",
   "metadata": {},
   "source": []
  },
  {
   "cell_type": "markdown",
   "metadata": {},
   "source": []
  },
  {
   "cell_type": "markdown",
   "metadata": {},
   "source": []
  },
  {
   "cell_type": "markdown",
   "metadata": {},
   "source": []
  },
  {
   "cell_type": "markdown",
   "metadata": {},
   "source": []
  },
  {
   "cell_type": "markdown",
   "metadata": {},
   "source": []
  },
  {
   "cell_type": "markdown",
   "metadata": {},
   "source": []
  },
  {
   "cell_type": "markdown",
   "metadata": {},
   "source": []
  },
  {
   "cell_type": "markdown",
   "metadata": {},
   "source": []
  },
  {
   "cell_type": "markdown",
   "metadata": {},
   "source": []
  },
  {
   "cell_type": "markdown",
   "metadata": {},
   "source": []
  }
 ],
 "metadata": {
  "kernelspec": {
   "display_name": "Python 3",
   "language": "python",
   "name": "python3"
  },
  "language_info": {
   "codemirror_mode": {
    "name": "ipython",
    "version": 3
   },
   "file_extension": ".py",
   "mimetype": "text/x-python",
   "name": "python",
   "nbconvert_exporter": "python",
   "pygments_lexer": "ipython3",
   "version": "3.6.5"
  }
 },
 "nbformat": 4,
 "nbformat_minor": 2
}
